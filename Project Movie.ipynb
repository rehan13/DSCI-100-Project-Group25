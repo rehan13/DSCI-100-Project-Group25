{
 "cells": [
  {
   "cell_type": "code",
   "execution_count": 81,
   "metadata": {},
   "outputs": [],
   "source": [
    "### Run this cell before continuing. \n",
    "library(tidyverse)\n",
    "library(repr)\n",
    "library(tidymodels)\n",
    "options(repr.matrix.max.rows = 6)\n",
    "\n"
   ]
  },
  {
   "cell_type": "code",
   "execution_count": 82,
   "metadata": {},
   "outputs": [],
   "source": [
    "url <- \"https://raw.githubusercontent.com/rehan13/DSCI-100-Project-Group25/main/AnnualTicketSales.csv\"\n",
    "download.file(url, destfile = \"AnnualTicketSales.csv\")\n"
   ]
  },
  {
   "cell_type": "code",
   "execution_count": 83,
   "metadata": {},
   "outputs": [
    {
     "name": "stderr",
     "output_type": "stream",
     "text": [
      "Parsed with column specification:\n",
      "cols(\n",
      "  YEAR = \u001b[32mcol_double()\u001b[39m,\n",
      "  TICKETS_SOLD = \u001b[32mcol_number()\u001b[39m,\n",
      "  TOTAL_BOX_OFFICE = \u001b[31mcol_character()\u001b[39m,\n",
      "  TOTAL_INFLATION_ADJUSTED_BOX_OFFICE = \u001b[31mcol_character()\u001b[39m,\n",
      "  AVERAGE_TICKET_PRICE = \u001b[31mcol_character()\u001b[39m\n",
      ")\n",
      "\n"
     ]
    },
    {
     "data": {
      "text/html": [
       "<table>\n",
       "<caption>A spec_tbl_df: 27 × 5</caption>\n",
       "<thead>\n",
       "\t<tr><th scope=col>YEAR</th><th scope=col>TICKETS_SOLD</th><th scope=col>TOTAL_BOX_OFFICE</th><th scope=col>TOTAL_INFLATION_ADJUSTED_BOX_OFFICE</th><th scope=col>AVERAGE_TICKET_PRICE</th></tr>\n",
       "\t<tr><th scope=col>&lt;dbl&gt;</th><th scope=col>&lt;dbl&gt;</th><th scope=col>&lt;chr&gt;</th><th scope=col>&lt;chr&gt;</th><th scope=col>&lt;chr&gt;</th></tr>\n",
       "</thead>\n",
       "<tbody>\n",
       "\t<tr><td>2021</td><td> 423774881</td><td>$3,881,777,912 </td><td>$3,881,777,912 </td><td>$9.16</td></tr>\n",
       "\t<tr><td>2020</td><td> 223638958</td><td>$2,048,534,616 </td><td>$2,048,534,616 </td><td>$9.16</td></tr>\n",
       "\t<tr><td>2019</td><td>1228541629</td><td>$11,253,443,955</td><td>$11,253,444,050</td><td>$9.16</td></tr>\n",
       "\t<tr><td>⋮</td><td>⋮</td><td>⋮</td><td>⋮</td><td>⋮</td></tr>\n",
       "\t<tr><td>1997</td><td>1357349648</td><td>$6,230,235,770</td><td>$12,433,322,785</td><td>$4.59</td></tr>\n",
       "\t<tr><td>1996</td><td>1305221290</td><td>$5,769,078,886</td><td>$11,955,781,912</td><td>$4.42</td></tr>\n",
       "\t<tr><td>1995</td><td>1221705907</td><td>$5,314,421,390</td><td>$11,190,826,105</td><td>$4.35</td></tr>\n",
       "</tbody>\n",
       "</table>\n"
      ],
      "text/latex": [
       "A spec\\_tbl\\_df: 27 × 5\n",
       "\\begin{tabular}{lllll}\n",
       " YEAR & TICKETS\\_SOLD & TOTAL\\_BOX\\_OFFICE & TOTAL\\_INFLATION\\_ADJUSTED\\_BOX\\_OFFICE & AVERAGE\\_TICKET\\_PRICE\\\\\n",
       " <dbl> & <dbl> & <chr> & <chr> & <chr>\\\\\n",
       "\\hline\n",
       "\t 2021 &  423774881 & \\$3,881,777,912  & \\$3,881,777,912  & \\$9.16\\\\\n",
       "\t 2020 &  223638958 & \\$2,048,534,616  & \\$2,048,534,616  & \\$9.16\\\\\n",
       "\t 2019 & 1228541629 & \\$11,253,443,955 & \\$11,253,444,050 & \\$9.16\\\\\n",
       "\t ⋮ & ⋮ & ⋮ & ⋮ & ⋮\\\\\n",
       "\t 1997 & 1357349648 & \\$6,230,235,770 & \\$12,433,322,785 & \\$4.59\\\\\n",
       "\t 1996 & 1305221290 & \\$5,769,078,886 & \\$11,955,781,912 & \\$4.42\\\\\n",
       "\t 1995 & 1221705907 & \\$5,314,421,390 & \\$11,190,826,105 & \\$4.35\\\\\n",
       "\\end{tabular}\n"
      ],
      "text/markdown": [
       "\n",
       "A spec_tbl_df: 27 × 5\n",
       "\n",
       "| YEAR &lt;dbl&gt; | TICKETS_SOLD &lt;dbl&gt; | TOTAL_BOX_OFFICE &lt;chr&gt; | TOTAL_INFLATION_ADJUSTED_BOX_OFFICE &lt;chr&gt; | AVERAGE_TICKET_PRICE &lt;chr&gt; |\n",
       "|---|---|---|---|---|\n",
       "| 2021 |  423774881 | $3,881,777,912  | $3,881,777,912  | $9.16 |\n",
       "| 2020 |  223638958 | $2,048,534,616  | $2,048,534,616  | $9.16 |\n",
       "| 2019 | 1228541629 | $11,253,443,955 | $11,253,444,050 | $9.16 |\n",
       "| ⋮ | ⋮ | ⋮ | ⋮ | ⋮ |\n",
       "| 1997 | 1357349648 | $6,230,235,770 | $12,433,322,785 | $4.59 |\n",
       "| 1996 | 1305221290 | $5,769,078,886 | $11,955,781,912 | $4.42 |\n",
       "| 1995 | 1221705907 | $5,314,421,390 | $11,190,826,105 | $4.35 |\n",
       "\n"
      ],
      "text/plain": [
       "   YEAR TICKETS_SOLD TOTAL_BOX_OFFICE TOTAL_INFLATION_ADJUSTED_BOX_OFFICE\n",
       "1  2021  423774881   $3,881,777,912   $3,881,777,912                     \n",
       "2  2020  223638958   $2,048,534,616   $2,048,534,616                     \n",
       "3  2019 1228541629   $11,253,443,955  $11,253,444,050                    \n",
       "⋮  ⋮    ⋮            ⋮                ⋮                                  \n",
       "25 1997 1357349648   $6,230,235,770   $12,433,322,785                    \n",
       "26 1996 1305221290   $5,769,078,886   $11,955,781,912                    \n",
       "27 1995 1221705907   $5,314,421,390   $11,190,826,105                    \n",
       "   AVERAGE_TICKET_PRICE\n",
       "1  $9.16               \n",
       "2  $9.16               \n",
       "3  $9.16               \n",
       "⋮  ⋮                   \n",
       "25 $4.59               \n",
       "26 $4.42               \n",
       "27 $4.35               "
      ]
     },
     "metadata": {},
     "output_type": "display_data"
    }
   ],
   "source": [
    "annual_sale_data <- read_csv(\"AnnualTicketSales.csv\")\n",
    "\n",
    "annual_sale_data"
   ]
  },
  {
   "cell_type": "code",
   "execution_count": 84,
   "metadata": {},
   "outputs": [],
   "source": [
    "url <- \"https://raw.githubusercontent.com/rehan13/DSCI-100-Project-Group25/main/HighestGrossers.csv\"\n",
    "download.file(url, destfile = \"HighestGrossers.csv\")"
   ]
  },
  {
   "cell_type": "code",
   "execution_count": 85,
   "metadata": {},
   "outputs": [
    {
     "name": "stderr",
     "output_type": "stream",
     "text": [
      "Parsed with column specification:\n",
      "cols(\n",
      "  YEAR = \u001b[32mcol_double()\u001b[39m,\n",
      "  MOVIE = \u001b[31mcol_character()\u001b[39m,\n",
      "  GENRE = \u001b[31mcol_character()\u001b[39m,\n",
      "  MPAA_RATING = \u001b[31mcol_character()\u001b[39m,\n",
      "  DISTRIBUTOR = \u001b[31mcol_character()\u001b[39m,\n",
      "  TOTAL_FOR_YEAR_IN_DOLLARS = \u001b[32mcol_number()\u001b[39m,\n",
      "  TOTAL_IN_2019_DOLLARS = \u001b[32mcol_number()\u001b[39m,\n",
      "  TICKETS_SOLD = \u001b[32mcol_number()\u001b[39m\n",
      ")\n",
      "\n"
     ]
    },
    {
     "data": {
      "text/html": [
       "<table>\n",
       "<caption>A spec_tbl_df: 27 × 8</caption>\n",
       "<thead>\n",
       "\t<tr><th scope=col>YEAR</th><th scope=col>MOVIE</th><th scope=col>GENRE</th><th scope=col>MPAA_RATING</th><th scope=col>DISTRIBUTOR</th><th scope=col>TOTAL_FOR_YEAR_IN_DOLLARS</th><th scope=col>TOTAL_IN_2019_DOLLARS</th><th scope=col>TICKETS_SOLD</th></tr>\n",
       "\t<tr><th scope=col>&lt;dbl&gt;</th><th scope=col>&lt;chr&gt;</th><th scope=col>&lt;chr&gt;</th><th scope=col>&lt;chr&gt;</th><th scope=col>&lt;chr&gt;</th><th scope=col>&lt;dbl&gt;</th><th scope=col>&lt;dbl&gt;</th><th scope=col>&lt;dbl&gt;</th></tr>\n",
       "</thead>\n",
       "<tbody>\n",
       "\t<tr><td>1995</td><td>Batman Forever  </td><td>Drama    </td><td>PG-13</td><td>Warner_Bros.    </td><td>184031112</td><td>387522978</td><td>42306002</td></tr>\n",
       "\t<tr><td>1996</td><td>Independence Day</td><td>Adventure</td><td>PG-13</td><td>20th Century_Fox</td><td>306169255</td><td>634504608</td><td>69269062</td></tr>\n",
       "\t<tr><td>1997</td><td>Men in Black    </td><td>Adventure</td><td>PG-13</td><td>Sony_Pictures   </td><td>250650052</td><td>500207943</td><td>54607854</td></tr>\n",
       "\t<tr><td>⋮</td><td>⋮</td><td>⋮</td><td>⋮</td><td>⋮</td><td>⋮</td><td>⋮</td><td>⋮</td></tr>\n",
       "\t<tr><td>2019</td><td>Avengers: Endgame                        </td><td>Action</td><td>PG-13</td><td>Walt_Disney  </td><td>858373000</td><td>858373002</td><td>93708843</td></tr>\n",
       "\t<tr><td>2020</td><td>Bad Boys For Life                        </td><td>Action</td><td>R    </td><td>Sony_Pictures</td><td>204417855</td><td>204417848</td><td>22316359</td></tr>\n",
       "\t<tr><td>2021</td><td>Shang-Chi and the Legend of the Ten Rings</td><td>Action</td><td>PG-13</td><td>Walt_Disney  </td><td>224226704</td><td>224226704</td><td>24478897</td></tr>\n",
       "</tbody>\n",
       "</table>\n"
      ],
      "text/latex": [
       "A spec\\_tbl\\_df: 27 × 8\n",
       "\\begin{tabular}{llllllll}\n",
       " YEAR & MOVIE & GENRE & MPAA\\_RATING & DISTRIBUTOR & TOTAL\\_FOR\\_YEAR\\_IN\\_DOLLARS & TOTAL\\_IN\\_2019\\_DOLLARS & TICKETS\\_SOLD\\\\\n",
       " <dbl> & <chr> & <chr> & <chr> & <chr> & <dbl> & <dbl> & <dbl>\\\\\n",
       "\\hline\n",
       "\t 1995 & Batman Forever   & Drama     & PG-13 & Warner\\_Bros.     & 184031112 & 387522978 & 42306002\\\\\n",
       "\t 1996 & Independence Day & Adventure & PG-13 & 20th Century\\_Fox & 306169255 & 634504608 & 69269062\\\\\n",
       "\t 1997 & Men in Black     & Adventure & PG-13 & Sony\\_Pictures    & 250650052 & 500207943 & 54607854\\\\\n",
       "\t ⋮ & ⋮ & ⋮ & ⋮ & ⋮ & ⋮ & ⋮ & ⋮\\\\\n",
       "\t 2019 & Avengers: Endgame                         & Action & PG-13 & Walt\\_Disney   & 858373000 & 858373002 & 93708843\\\\\n",
       "\t 2020 & Bad Boys For Life                         & Action & R     & Sony\\_Pictures & 204417855 & 204417848 & 22316359\\\\\n",
       "\t 2021 & Shang-Chi and the Legend of the Ten Rings & Action & PG-13 & Walt\\_Disney   & 224226704 & 224226704 & 24478897\\\\\n",
       "\\end{tabular}\n"
      ],
      "text/markdown": [
       "\n",
       "A spec_tbl_df: 27 × 8\n",
       "\n",
       "| YEAR &lt;dbl&gt; | MOVIE &lt;chr&gt; | GENRE &lt;chr&gt; | MPAA_RATING &lt;chr&gt; | DISTRIBUTOR &lt;chr&gt; | TOTAL_FOR_YEAR_IN_DOLLARS &lt;dbl&gt; | TOTAL_IN_2019_DOLLARS &lt;dbl&gt; | TICKETS_SOLD &lt;dbl&gt; |\n",
       "|---|---|---|---|---|---|---|---|\n",
       "| 1995 | Batman Forever   | Drama     | PG-13 | Warner_Bros.     | 184031112 | 387522978 | 42306002 |\n",
       "| 1996 | Independence Day | Adventure | PG-13 | 20th Century_Fox | 306169255 | 634504608 | 69269062 |\n",
       "| 1997 | Men in Black     | Adventure | PG-13 | Sony_Pictures    | 250650052 | 500207943 | 54607854 |\n",
       "| ⋮ | ⋮ | ⋮ | ⋮ | ⋮ | ⋮ | ⋮ | ⋮ |\n",
       "| 2019 | Avengers: Endgame                         | Action | PG-13 | Walt_Disney   | 858373000 | 858373002 | 93708843 |\n",
       "| 2020 | Bad Boys For Life                         | Action | R     | Sony_Pictures | 204417855 | 204417848 | 22316359 |\n",
       "| 2021 | Shang-Chi and the Legend of the Ten Rings | Action | PG-13 | Walt_Disney   | 224226704 | 224226704 | 24478897 |\n",
       "\n"
      ],
      "text/plain": [
       "   YEAR MOVIE                                     GENRE     MPAA_RATING\n",
       "1  1995 Batman Forever                            Drama     PG-13      \n",
       "2  1996 Independence Day                          Adventure PG-13      \n",
       "3  1997 Men in Black                              Adventure PG-13      \n",
       "⋮  ⋮    ⋮                                         ⋮         ⋮          \n",
       "25 2019 Avengers: Endgame                         Action    PG-13      \n",
       "26 2020 Bad Boys For Life                         Action    R          \n",
       "27 2021 Shang-Chi and the Legend of the Ten Rings Action    PG-13      \n",
       "   DISTRIBUTOR      TOTAL_FOR_YEAR_IN_DOLLARS TOTAL_IN_2019_DOLLARS\n",
       "1  Warner_Bros.     184031112                 387522978            \n",
       "2  20th Century_Fox 306169255                 634504608            \n",
       "3  Sony_Pictures    250650052                 500207943            \n",
       "⋮  ⋮                ⋮                         ⋮                    \n",
       "25 Walt_Disney      858373000                 858373002            \n",
       "26 Sony_Pictures    204417855                 204417848            \n",
       "27 Walt_Disney      224226704                 224226704            \n",
       "   TICKETS_SOLD\n",
       "1  42306002    \n",
       "2  69269062    \n",
       "3  54607854    \n",
       "⋮  ⋮           \n",
       "25 93708843    \n",
       "26 22316359    \n",
       "27 24478897    "
      ]
     },
     "metadata": {},
     "output_type": "display_data"
    }
   ],
   "source": [
    "Highest_grosser_data <- read_csv(\"HighestGrossers.csv\")\n",
    "\n",
    "Highest_grosser_data"
   ]
  },
  {
   "cell_type": "code",
   "execution_count": 86,
   "metadata": {},
   "outputs": [
    {
     "data": {
      "text/html": [
       "<table>\n",
       "<caption>A spec_tbl_df: 1 × 8</caption>\n",
       "<thead>\n",
       "\t<tr><th scope=col>YEAR</th><th scope=col>MOVIE</th><th scope=col>GENRE</th><th scope=col>MPAA_RATING</th><th scope=col>DISTRIBUTOR</th><th scope=col>TOTAL_FOR_YEAR_IN_DOLLARS</th><th scope=col>TOTAL_IN_2019_DOLLARS</th><th scope=col>TICKETS_SOLD</th></tr>\n",
       "\t<tr><th scope=col>&lt;dbl&gt;</th><th scope=col>&lt;chr&gt;</th><th scope=col>&lt;chr&gt;</th><th scope=col>&lt;chr&gt;</th><th scope=col>&lt;chr&gt;</th><th scope=col>&lt;dbl&gt;</th><th scope=col>&lt;dbl&gt;</th><th scope=col>&lt;dbl&gt;</th></tr>\n",
       "</thead>\n",
       "<tbody>\n",
       "\t<tr><td>1995</td><td>Batman Forever</td><td>Drama</td><td>PG-13</td><td>Warner_Bros.</td><td>184031112</td><td>387522978</td><td>42306002</td></tr>\n",
       "</tbody>\n",
       "</table>\n"
      ],
      "text/latex": [
       "A spec\\_tbl\\_df: 1 × 8\n",
       "\\begin{tabular}{llllllll}\n",
       " YEAR & MOVIE & GENRE & MPAA\\_RATING & DISTRIBUTOR & TOTAL\\_FOR\\_YEAR\\_IN\\_DOLLARS & TOTAL\\_IN\\_2019\\_DOLLARS & TICKETS\\_SOLD\\\\\n",
       " <dbl> & <chr> & <chr> & <chr> & <chr> & <dbl> & <dbl> & <dbl>\\\\\n",
       "\\hline\n",
       "\t 1995 & Batman Forever & Drama & PG-13 & Warner\\_Bros. & 184031112 & 387522978 & 42306002\\\\\n",
       "\\end{tabular}\n"
      ],
      "text/markdown": [
       "\n",
       "A spec_tbl_df: 1 × 8\n",
       "\n",
       "| YEAR &lt;dbl&gt; | MOVIE &lt;chr&gt; | GENRE &lt;chr&gt; | MPAA_RATING &lt;chr&gt; | DISTRIBUTOR &lt;chr&gt; | TOTAL_FOR_YEAR_IN_DOLLARS &lt;dbl&gt; | TOTAL_IN_2019_DOLLARS &lt;dbl&gt; | TICKETS_SOLD &lt;dbl&gt; |\n",
       "|---|---|---|---|---|---|---|---|\n",
       "| 1995 | Batman Forever | Drama | PG-13 | Warner_Bros. | 184031112 | 387522978 | 42306002 |\n",
       "\n"
      ],
      "text/plain": [
       "  YEAR MOVIE          GENRE MPAA_RATING DISTRIBUTOR  TOTAL_FOR_YEAR_IN_DOLLARS\n",
       "1 1995 Batman Forever Drama PG-13       Warner_Bros. 184031112                \n",
       "  TOTAL_IN_2019_DOLLARS TICKETS_SOLD\n",
       "1 387522978             42306002    "
      ]
     },
     "metadata": {},
     "output_type": "display_data"
    }
   ],
   "source": [
    "Drama <- filter(Highest_grosser_data, GENRE == \"Drama\")\n",
    "Drama"
   ]
  },
  {
   "cell_type": "code",
   "execution_count": 87,
   "metadata": {},
   "outputs": [
    {
     "data": {
      "text/html": [
       "<table>\n",
       "<caption>A spec_tbl_df: 14 × 8</caption>\n",
       "<thead>\n",
       "\t<tr><th scope=col>YEAR</th><th scope=col>MOVIE</th><th scope=col>GENRE</th><th scope=col>MPAA_RATING</th><th scope=col>DISTRIBUTOR</th><th scope=col>TOTAL_FOR_YEAR_IN_DOLLARS</th><th scope=col>TOTAL_IN_2019_DOLLARS</th><th scope=col>TICKETS_SOLD</th></tr>\n",
       "\t<tr><th scope=col>&lt;dbl&gt;</th><th scope=col>&lt;chr&gt;</th><th scope=col>&lt;chr&gt;</th><th scope=col>&lt;chr&gt;</th><th scope=col>&lt;chr&gt;</th><th scope=col>&lt;dbl&gt;</th><th scope=col>&lt;dbl&gt;</th><th scope=col>&lt;dbl&gt;</th></tr>\n",
       "</thead>\n",
       "<tbody>\n",
       "\t<tr><td>1996</td><td>Independence Day</td><td>Adventure</td><td>PG-13</td><td>20th Century_Fox  </td><td>306169255</td><td>634504608</td><td>69269062</td></tr>\n",
       "\t<tr><td>1997</td><td>Men in Black    </td><td>Adventure</td><td>PG-13</td><td>Sony_Pictures     </td><td>250650052</td><td>500207943</td><td>54607854</td></tr>\n",
       "\t<tr><td>1998</td><td>Titanic         </td><td>Adventure</td><td>PG-13</td><td>Paramount_Pictures</td><td>443319081</td><td>865842808</td><td>94524324</td></tr>\n",
       "\t<tr><td>⋮</td><td>⋮</td><td>⋮</td><td>⋮</td><td>⋮</td><td>⋮</td><td>⋮</td><td>⋮</td></tr>\n",
       "\t<tr><td>2012</td><td>The Avengers           </td><td>Adventure</td><td>PG-13</td><td>Walt_Disney</td><td>623357910</td><td>717331462</td><td>78311295</td></tr>\n",
       "\t<tr><td>2013</td><td>Iron Man 3             </td><td>Adventure</td><td>PG-13</td><td>Walt_Disney</td><td>408992272</td><td>460808016</td><td>50306552</td></tr>\n",
       "\t<tr><td>2014</td><td>Guardians of the Galaxy</td><td>Adventure</td><td>PG-13</td><td>Walt_Disney</td><td>333055258</td><td>373413235</td><td>40765637</td></tr>\n",
       "</tbody>\n",
       "</table>\n"
      ],
      "text/latex": [
       "A spec\\_tbl\\_df: 14 × 8\n",
       "\\begin{tabular}{llllllll}\n",
       " YEAR & MOVIE & GENRE & MPAA\\_RATING & DISTRIBUTOR & TOTAL\\_FOR\\_YEAR\\_IN\\_DOLLARS & TOTAL\\_IN\\_2019\\_DOLLARS & TICKETS\\_SOLD\\\\\n",
       " <dbl> & <chr> & <chr> & <chr> & <chr> & <dbl> & <dbl> & <dbl>\\\\\n",
       "\\hline\n",
       "\t 1996 & Independence Day & Adventure & PG-13 & 20th Century\\_Fox   & 306169255 & 634504608 & 69269062\\\\\n",
       "\t 1997 & Men in Black     & Adventure & PG-13 & Sony\\_Pictures      & 250650052 & 500207943 & 54607854\\\\\n",
       "\t 1998 & Titanic          & Adventure & PG-13 & Paramount\\_Pictures & 443319081 & 865842808 & 94524324\\\\\n",
       "\t ⋮ & ⋮ & ⋮ & ⋮ & ⋮ & ⋮ & ⋮ & ⋮\\\\\n",
       "\t 2012 & The Avengers            & Adventure & PG-13 & Walt\\_Disney & 623357910 & 717331462 & 78311295\\\\\n",
       "\t 2013 & Iron Man 3              & Adventure & PG-13 & Walt\\_Disney & 408992272 & 460808016 & 50306552\\\\\n",
       "\t 2014 & Guardians of the Galaxy & Adventure & PG-13 & Walt\\_Disney & 333055258 & 373413235 & 40765637\\\\\n",
       "\\end{tabular}\n"
      ],
      "text/markdown": [
       "\n",
       "A spec_tbl_df: 14 × 8\n",
       "\n",
       "| YEAR &lt;dbl&gt; | MOVIE &lt;chr&gt; | GENRE &lt;chr&gt; | MPAA_RATING &lt;chr&gt; | DISTRIBUTOR &lt;chr&gt; | TOTAL_FOR_YEAR_IN_DOLLARS &lt;dbl&gt; | TOTAL_IN_2019_DOLLARS &lt;dbl&gt; | TICKETS_SOLD &lt;dbl&gt; |\n",
       "|---|---|---|---|---|---|---|---|\n",
       "| 1996 | Independence Day | Adventure | PG-13 | 20th Century_Fox   | 306169255 | 634504608 | 69269062 |\n",
       "| 1997 | Men in Black     | Adventure | PG-13 | Sony_Pictures      | 250650052 | 500207943 | 54607854 |\n",
       "| 1998 | Titanic          | Adventure | PG-13 | Paramount_Pictures | 443319081 | 865842808 | 94524324 |\n",
       "| ⋮ | ⋮ | ⋮ | ⋮ | ⋮ | ⋮ | ⋮ | ⋮ |\n",
       "| 2012 | The Avengers            | Adventure | PG-13 | Walt_Disney | 623357910 | 717331462 | 78311295 |\n",
       "| 2013 | Iron Man 3              | Adventure | PG-13 | Walt_Disney | 408992272 | 460808016 | 50306552 |\n",
       "| 2014 | Guardians of the Galaxy | Adventure | PG-13 | Walt_Disney | 333055258 | 373413235 | 40765637 |\n",
       "\n"
      ],
      "text/plain": [
       "   YEAR MOVIE                   GENRE     MPAA_RATING DISTRIBUTOR       \n",
       "1  1996 Independence Day        Adventure PG-13       20th Century_Fox  \n",
       "2  1997 Men in Black            Adventure PG-13       Sony_Pictures     \n",
       "3  1998 Titanic                 Adventure PG-13       Paramount_Pictures\n",
       "⋮  ⋮    ⋮                       ⋮         ⋮           ⋮                 \n",
       "12 2012 The Avengers            Adventure PG-13       Walt_Disney       \n",
       "13 2013 Iron Man 3              Adventure PG-13       Walt_Disney       \n",
       "14 2014 Guardians of the Galaxy Adventure PG-13       Walt_Disney       \n",
       "   TOTAL_FOR_YEAR_IN_DOLLARS TOTAL_IN_2019_DOLLARS TICKETS_SOLD\n",
       "1  306169255                 634504608             69269062    \n",
       "2  250650052                 500207943             54607854    \n",
       "3  443319081                 865842808             94524324    \n",
       "⋮  ⋮                         ⋮                     ⋮           \n",
       "12 623357910                 717331462             78311295    \n",
       "13 408992272                 460808016             50306552    \n",
       "14 333055258                 373413235             40765637    "
      ]
     },
     "metadata": {},
     "output_type": "display_data"
    }
   ],
   "source": [
    "Adventure <- filter(Highest_grosser_data, GENRE == \"Adventure\")\n",
    "Adventure"
   ]
  },
  {
   "cell_type": "code",
   "execution_count": 88,
   "metadata": {},
   "outputs": [
    {
     "data": {
      "text/html": [
       "8173858097"
      ],
      "text/latex": [
       "8173858097"
      ],
      "text/markdown": [
       "8173858097"
      ],
      "text/plain": [
       "[1] 8173858097"
      ]
     },
     "metadata": {},
     "output_type": "display_data"
    }
   ],
   "source": [
    "Sum_adventure_revenue <- sum(Adventure$TOTAL_IN_2019_DOLLARS)\n",
    "Sum_adventure_revenue"
   ]
  },
  {
   "cell_type": "code",
   "execution_count": 89,
   "metadata": {},
   "outputs": [
    {
     "name": "stderr",
     "output_type": "stream",
     "text": [
      "`summarise()` ungrouping output (override with `.groups` argument)\n",
      "\n"
     ]
    },
    {
     "data": {
      "text/html": [
       "<table>\n",
       "<caption>A tibble: 7 × 2</caption>\n",
       "<thead>\n",
       "\t<tr><th scope=col>DISTRIBUTOR</th><th scope=col>Total_Revenue_In_2019_Dollars</th></tr>\n",
       "\t<tr><th scope=col>&lt;chr&gt;</th><th scope=col>&lt;dbl&gt;</th></tr>\n",
       "</thead>\n",
       "<tbody>\n",
       "\t<tr><td>20th Century_Fox  </td><td>1410658357</td></tr>\n",
       "\t<tr><td>Dreamworks_SKG    </td><td> 650826473</td></tr>\n",
       "\t<tr><td>Paramount_Pictures</td><td> 865842808</td></tr>\n",
       "\t<tr><td>⋮</td><td>⋮</td></tr>\n",
       "\t<tr><td>Universal   </td><td> 430583644</td></tr>\n",
       "\t<tr><td>Walt_Disney </td><td>2067603059</td></tr>\n",
       "\t<tr><td>Warner_Bros.</td><td>1163600662</td></tr>\n",
       "</tbody>\n",
       "</table>\n"
      ],
      "text/latex": [
       "A tibble: 7 × 2\n",
       "\\begin{tabular}{ll}\n",
       " DISTRIBUTOR & Total\\_Revenue\\_In\\_2019\\_Dollars\\\\\n",
       " <chr> & <dbl>\\\\\n",
       "\\hline\n",
       "\t 20th Century\\_Fox   & 1410658357\\\\\n",
       "\t Dreamworks\\_SKG     &  650826473\\\\\n",
       "\t Paramount\\_Pictures &  865842808\\\\\n",
       "\t ⋮ & ⋮\\\\\n",
       "\t Universal    &  430583644\\\\\n",
       "\t Walt\\_Disney  & 2067603059\\\\\n",
       "\t Warner\\_Bros. & 1163600662\\\\\n",
       "\\end{tabular}\n"
      ],
      "text/markdown": [
       "\n",
       "A tibble: 7 × 2\n",
       "\n",
       "| DISTRIBUTOR &lt;chr&gt; | Total_Revenue_In_2019_Dollars &lt;dbl&gt; |\n",
       "|---|---|\n",
       "| 20th Century_Fox   | 1410658357 |\n",
       "| Dreamworks_SKG     |  650826473 |\n",
       "| Paramount_Pictures |  865842808 |\n",
       "| ⋮ | ⋮ |\n",
       "| Universal    |  430583644 |\n",
       "| Walt_Disney  | 2067603059 |\n",
       "| Warner_Bros. | 1163600662 |\n",
       "\n"
      ],
      "text/plain": [
       "  DISTRIBUTOR        Total_Revenue_In_2019_Dollars\n",
       "1 20th Century_Fox   1410658357                   \n",
       "2 Dreamworks_SKG      650826473                   \n",
       "3 Paramount_Pictures  865842808                   \n",
       "⋮ ⋮                  ⋮                            \n",
       "5 Universal           430583644                   \n",
       "6 Walt_Disney        2067603059                   \n",
       "7 Warner_Bros.       1163600662                   "
      ]
     },
     "metadata": {},
     "output_type": "display_data"
    }
   ],
   "source": [
    "Total_Revenue_Adventure <- Adventure %>%\n",
    "group_by(DISTRIBUTOR) %>% \n",
    "   summarize(Total_Revenue_In_2019_Dollars = sum(TOTAL_IN_2019_DOLLARS,na.rm = TRUE))\n",
    "Total_Revenue_Adventure"
   ]
  },
  {
   "cell_type": "code",
   "execution_count": 90,
   "metadata": {},
   "outputs": [
    {
     "data": {
      "image/png": "[encoded data removed]",
      "text/plain": [
       "plot without title"
      ]
     },
     "metadata": {
      "image/png": {
       "height": 900,
       "width": 1200
      }
     },
     "output_type": "display_data"
    }
   ],
   "source": [
    "options(repr.plot.width = 20, repr.plot.height = 15)\n",
    "\n",
    "Revenue_By_Distributor_Adventure <- Total_Revenue_Adventure %>%\n",
    "   ggplot(aes(x = DISTRIBUTOR, y = Total_Revenue_In_2019_Dollars)) + \n",
    "       geom_bar(stat = \"Identity\") +\n",
    "       xlab(\"DISTRIBUTORS\") + \n",
    "       ylab(\"TOTAL REVENUE (USD) FROM ADVENTURE MOVIES\") +\n",
    "       theme(text = element_text(size=15))\n",
    "Revenue_By_Distributor_Adventure"
   ]
  },
  {
   "cell_type": "markdown",
   "metadata": {},
   "source": [
    "Random"
   ]
  }
 ],
 "metadata": {
  "kernelspec": {
   "display_name": "R",
   "language": "R",
   "name": "ir"
  },
  "language_info": {
   "codemirror_mode": "r",
   "file_extension": ".r",
   "mimetype": "text/x-r-source",
   "name": "R",
   "pygments_lexer": "r",
   "version": "4.0.0"
  }
 },
 "nbformat": 4,
 "nbformat_minor": 4
}
